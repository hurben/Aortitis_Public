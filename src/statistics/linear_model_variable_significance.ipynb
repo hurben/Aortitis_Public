{
 "cells": [
  {
   "cell_type": "code",
   "execution_count": 6,
   "metadata": {},
   "outputs": [],
   "source": [
    "# library(lme4)\n",
    "# library(lmerTest)\n",
    "library(stringr)"
   ]
  },
  {
   "cell_type": "code",
   "execution_count": 7,
   "metadata": {},
   "outputs": [],
   "source": [
    "patient_info_file <- '../../data/patient_binary_info.csv'\n",
    "patient_info_df <- read.csv(patient_info_file, sep=\",\", header=TRUE, row.names=1)"
   ]
  },
  {
   "cell_type": "code",
   "execution_count": 8,
   "metadata": {},
   "outputs": [
    {
     "data": {
      "text/html": [
       "<style>\n",
       ".dl-inline {width: auto; margin:0; padding: 0}\n",
       ".dl-inline>dt, .dl-inline>dd {float: none; width: auto; display: inline-block}\n",
       ".dl-inline>dt::after {content: \":\\0020\"; padding-right: .5ex}\n",
       ".dl-inline>dt:not(:first-of-type) {padding-left: .5ex}\n",
       "</style><dl class=dl-inline><dt>(Intercept)</dt><dd>0.723846304027892</dd><dt>Gender</dt><dd>0.556306095363658</dd></dl>\n"
      ],
      "text/latex": [
       "\\begin{description*}\n",
       "\\item[(Intercept)] 0.723846304027892\n",
       "\\item[Gender] 0.556306095363658\n",
       "\\end{description*}\n"
      ],
      "text/markdown": [
       "(Intercept)\n",
       ":   0.723846304027892Gender\n",
       ":   0.556306095363658\n",
       "\n"
      ],
      "text/plain": [
       "(Intercept)      Gender \n",
       "  0.7238463   0.5563061 "
      ]
     },
     "metadata": {},
     "output_type": "display_data"
    },
    {
     "data": {
      "text/html": [
       "<style>\n",
       ".dl-inline {width: auto; margin:0; padding: 0}\n",
       ".dl-inline>dt, .dl-inline>dd {float: none; width: auto; display: inline-block}\n",
       ".dl-inline>dt::after {content: \":\\0020\"; padding-right: .5ex}\n",
       ".dl-inline>dt:not(:first-of-type) {padding-left: .5ex}\n",
       "</style><dl class=dl-inline><dt>(Intercept)</dt><dd>0.532784036146234</dd><dt>aspirin</dt><dd>0.395804356295992</dd></dl>\n"
      ],
      "text/latex": [
       "\\begin{description*}\n",
       "\\item[(Intercept)] 0.532784036146234\n",
       "\\item[aspirin] 0.395804356295992\n",
       "\\end{description*}\n"
      ],
      "text/markdown": [
       "(Intercept)\n",
       ":   0.532784036146234aspirin\n",
       ":   0.395804356295992\n",
       "\n"
      ],
      "text/plain": [
       "(Intercept)     aspirin \n",
       "  0.5327840   0.3958044 "
      ]
     },
     "metadata": {},
     "output_type": "display_data"
    },
    {
     "data": {
      "text/html": [
       "<style>\n",
       ".dl-inline {width: auto; margin:0; padding: 0}\n",
       ".dl-inline>dt, .dl-inline>dd {float: none; width: auto; display: inline-block}\n",
       ".dl-inline>dt::after {content: \":\\0020\"; padding-right: .5ex}\n",
       ".dl-inline>dt:not(:first-of-type) {padding-left: .5ex}\n",
       "</style><dl class=dl-inline><dt>(Intercept)</dt><dd>0.243640513838446</dd><dt>Statin</dt><dd>0.0926810502640768</dd></dl>\n"
      ],
      "text/latex": [
       "\\begin{description*}\n",
       "\\item[(Intercept)] 0.243640513838446\n",
       "\\item[Statin] 0.0926810502640768\n",
       "\\end{description*}\n"
      ],
      "text/markdown": [
       "(Intercept)\n",
       ":   0.243640513838446Statin\n",
       ":   0.0926810502640768\n",
       "\n"
      ],
      "text/plain": [
       "(Intercept)      Statin \n",
       " 0.24364051  0.09268105 "
      ]
     },
     "metadata": {},
     "output_type": "display_data"
    },
    {
     "data": {
      "text/html": [
       "<style>\n",
       ".dl-inline {width: auto; margin:0; padding: 0}\n",
       ".dl-inline>dt, .dl-inline>dd {float: none; width: auto; display: inline-block}\n",
       ".dl-inline>dt::after {content: \":\\0020\"; padding-right: .5ex}\n",
       ".dl-inline>dt:not(:first-of-type) {padding-left: .5ex}\n",
       "</style><dl class=dl-inline><dt>(Intercept)</dt><dd>0.134297186022159</dd><dt>ACE_ARB</dt><dd>0.0483836163406757</dd></dl>\n"
      ],
      "text/latex": [
       "\\begin{description*}\n",
       "\\item[(Intercept)] 0.134297186022159\n",
       "\\item[ACE\\textbackslash{}\\_ARB] 0.0483836163406757\n",
       "\\end{description*}\n"
      ],
      "text/markdown": [
       "(Intercept)\n",
       ":   0.134297186022159ACE_ARB\n",
       ":   0.0483836163406757\n",
       "\n"
      ],
      "text/plain": [
       "(Intercept)     ACE_ARB \n",
       " 0.13429719  0.04838362 "
      ]
     },
     "metadata": {},
     "output_type": "display_data"
    },
    {
     "data": {
      "text/html": [
       "<style>\n",
       ".dl-inline {width: auto; margin:0; padding: 0}\n",
       ".dl-inline>dt, .dl-inline>dd {float: none; width: auto; display: inline-block}\n",
       ".dl-inline>dt::after {content: \":\\0020\"; padding-right: .5ex}\n",
       ".dl-inline>dt:not(:first-of-type) {padding-left: .5ex}\n",
       "</style><dl class=dl-inline><dt>(Intercept)</dt><dd>0.416414363527495</dd><dt>Smoker</dt><dd>0.259600706098417</dd></dl>\n"
      ],
      "text/latex": [
       "\\begin{description*}\n",
       "\\item[(Intercept)] 0.416414363527495\n",
       "\\item[Smoker] 0.259600706098417\n",
       "\\end{description*}\n"
      ],
      "text/markdown": [
       "(Intercept)\n",
       ":   0.416414363527495Smoker\n",
       ":   0.259600706098417\n",
       "\n"
      ],
      "text/plain": [
       "(Intercept)      Smoker \n",
       "  0.4164144   0.2596007 "
      ]
     },
     "metadata": {},
     "output_type": "display_data"
    },
    {
     "data": {
      "text/html": [
       "<style>\n",
       ".dl-inline {width: auto; margin:0; padding: 0}\n",
       ".dl-inline>dt, .dl-inline>dd {float: none; width: auto; display: inline-block}\n",
       ".dl-inline>dt::after {content: \":\\0020\"; padding-right: .5ex}\n",
       ".dl-inline>dt:not(:first-of-type) {padding-left: .5ex}\n",
       "</style><dl class=dl-inline><dt>(Intercept)</dt><dd>0.424622493595765</dd><dt>history_RD</dt><dd>0.0986606008092718</dd></dl>\n"
      ],
      "text/latex": [
       "\\begin{description*}\n",
       "\\item[(Intercept)] 0.424622493595765\n",
       "\\item[history\\textbackslash{}\\_RD] 0.0986606008092718\n",
       "\\end{description*}\n"
      ],
      "text/markdown": [
       "(Intercept)\n",
       ":   0.424622493595765history_RD\n",
       ":   0.0986606008092718\n",
       "\n"
      ],
      "text/plain": [
       "(Intercept)  history_RD \n",
       "  0.4246225   0.0986606 "
      ]
     },
     "metadata": {},
     "output_type": "display_data"
    }
   ],
   "source": [
    "fit <- glm(class ~ Gender , data = patient_info_df, family=\"binomial\")\n",
    "coef(summary(fit))[,4]\n",
    "\n",
    "fit <- glm(class ~ aspirin , data = patient_info_df, family=\"binomial\")\n",
    "coef(summary(fit))[,4]\n",
    "\n",
    "fit <- glm(class ~ Statin , data = patient_info_df, family=\"binomial\")\n",
    "coef(summary(fit))[,4]\n",
    "\n",
    "fit <- glm(class ~ ACE_ARB , data = patient_info_df, family=\"binomial\")\n",
    "coef(summary(fit))[,4]\n",
    "\n",
    "fit <- glm(class ~ Smoker , data = patient_info_df, family=\"binomial\")\n",
    "coef(summary(fit))[,4]\n",
    "\n",
    "fit <- glm(class ~ history_RD , data = patient_info_df, family=\"binomial\")\n",
    "coef(summary(fit))[,4]\n"
   ]
  },
  {
   "cell_type": "code",
   "execution_count": null,
   "metadata": {},
   "outputs": [],
   "source": []
  }
 ],
 "metadata": {
  "kernelspec": {
   "display_name": "R",
   "language": "R",
   "name": "ir"
  },
  "language_info": {
   "codemirror_mode": "r",
   "file_extension": ".r",
   "mimetype": "text/x-r-source",
   "name": "R",
   "pygments_lexer": "r",
   "version": "4.0.3"
  }
 },
 "nbformat": 4,
 "nbformat_minor": 2
}
